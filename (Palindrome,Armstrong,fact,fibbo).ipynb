{
 "cells": [
  {
   "cell_type": "code",
   "execution_count": 1,
   "metadata": {},
   "outputs": [
    {
     "name": "stdout",
     "output_type": "stream",
     "text": [
      "Enter the number : 5\n",
      "Factorial of number :  120\n"
     ]
    }
   ],
   "source": [
    "# Factorial of number\n",
    "\n",
    "num = int(input(\"Enter the number : \"))\n",
    "\n",
    "fact = 1\n",
    "while num > 0:\n",
    "    fact = fact * num\n",
    "    num -=1\n",
    "    \n",
    "print(\"Factorial of number : \", fact)"
   ]
  },
  {
   "cell_type": "code",
   "execution_count": 5,
   "metadata": {},
   "outputs": [
    {
     "name": "stdout",
     "output_type": "stream",
     "text": [
      "Enter the number : 125\n",
      "521\n",
      "125 is Not Palindrome number\n"
     ]
    }
   ],
   "source": [
    "# Palindrome of number \n",
    "\n",
    "num = int(input(\"Enter the number : \"))\n",
    "n = num\n",
    "rev = r = 0\n",
    "\n",
    "while num > 0:\n",
    "    r = num % 10\n",
    "    rev = (rev * 10) + r\n",
    "    num = int(num / 10)\n",
    "\n",
    "if n == rev:\n",
    "    print(\"{0} is Palindrome number\".format(n))  \n",
    "else:\n",
    "    print(\"{0} is Not Palindrome number\".format(n))\n",
    "    "
   ]
  },
  {
   "cell_type": "code",
   "execution_count": 9,
   "metadata": {},
   "outputs": [
    {
     "name": "stdout",
     "output_type": "stream",
     "text": [
      "Enter number : 145\n",
      "The 145 is not armstrong.\n"
     ]
    }
   ],
   "source": [
    "# Armstrong Number\n",
    "\n",
    "num = int(input(\"Enter number : \"))\n",
    "\n",
    "n = num\n",
    "r = rev = sum1 = 0\n",
    "\n",
    "while num > 0:\n",
    "    r = num % 10\n",
    "    rev = (r**3)\n",
    "    sum1 = sum1 + rev\n",
    "    num = int(num / 10)\n",
    "    \n",
    "if n == sum1:\n",
    "    print(f\"The {n} is armstrong.\")\n",
    "else:\n",
    "    print(f\"The {n} is not armstrong.\")\n",
    "    \n",
    "    "
   ]
  },
  {
   "cell_type": "code",
   "execution_count": 1,
   "metadata": {},
   "outputs": [
    {
     "name": "stdout",
     "output_type": "stream",
     "text": [
      "Enter number : 8\n",
      "0 1 1 2 3 5 8 13 "
     ]
    }
   ],
   "source": [
    "# fibonacci Series\n",
    "\n",
    "num = int(input(\"Enter number : \"))\n",
    "\n",
    "x = 0\n",
    "y = 1\n",
    "\n",
    "cnt = 0\n",
    "while cnt < num :\n",
    "    print(x, end=\" \")\n",
    "    res = x + y\n",
    "    x = y\n",
    "    y = res\n",
    "    cnt+=1\n",
    "    "
   ]
  },
  {
   "cell_type": "code",
   "execution_count": 7,
   "metadata": {},
   "outputs": [
    {
     "name": "stdout",
     "output_type": "stream",
     "text": [
      "Enter string :koyal\n",
      "layok\n",
      "String is not Palindrome.\n"
     ]
    }
   ],
   "source": [
    "# check the Palindrome string\n",
    "\n",
    "string = input(\"Enter string :\")\n",
    "string1 =string\n",
    "\n",
    "st = string1[::-1]\n",
    "print(st)\n",
    "if st == string1:\n",
    "    print(\"String is Palindrome.\")\n",
    "else:\n",
    "    print(\"String is not Palindrome.\")\n"
   ]
  },
  {
   "cell_type": "code",
   "execution_count": null,
   "metadata": {},
   "outputs": [],
   "source": []
  }
 ],
 "metadata": {
  "kernelspec": {
   "display_name": "Python 3",
   "language": "python",
   "name": "python3"
  },
  "language_info": {
   "codemirror_mode": {
    "name": "ipython",
    "version": 3
   },
   "file_extension": ".py",
   "mimetype": "text/x-python",
   "name": "python",
   "nbconvert_exporter": "python",
   "pygments_lexer": "ipython3",
   "version": "3.7.4"
  }
 },
 "nbformat": 4,
 "nbformat_minor": 2
}
