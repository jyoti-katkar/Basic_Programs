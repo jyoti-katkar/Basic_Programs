{
 "cells": [
  {
   "cell_type": "code",
   "execution_count": 20,
   "metadata": {},
   "outputs": [
    {
     "name": "stdout",
     "output_type": "stream",
     "text": [
      "Enter the number : 572378233 3\n",
      "3\n"
     ]
    }
   ],
   "source": [
    "num, digit = input(\"Enter the number : \").split(\" \")\n",
    "n = {}\n",
    "for i in num:\n",
    "    if i in n:\n",
    "         n[i] = n[i] + 1\n",
    "    else :\n",
    "        n[i] = 1\n",
    "\n",
    "print(n[digit])\n",
    "\n",
    "\n"
   ]
  },
  {
   "cell_type": "code",
   "execution_count": null,
   "metadata": {},
   "outputs": [],
   "source": []
  }
 ],
 "metadata": {
  "kernelspec": {
   "display_name": "Python 3",
   "language": "python",
   "name": "python3"
  },
  "language_info": {
   "codemirror_mode": {
    "name": "ipython",
    "version": 3
   },
   "file_extension": ".py",
   "mimetype": "text/x-python",
   "name": "python",
   "nbconvert_exporter": "python",
   "pygments_lexer": "ipython3",
   "version": "3.7.4"
  }
 },
 "nbformat": 4,
 "nbformat_minor": 2
}
