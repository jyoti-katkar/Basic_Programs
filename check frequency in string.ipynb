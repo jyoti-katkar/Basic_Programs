{
 "cells": [
  {
   "cell_type": "markdown",
   "metadata": {},
   "source": [
    "###  Count frequency of each character in given string.."
   ]
  },
  {
   "cell_type": "code",
   "execution_count": 1,
   "metadata": {},
   "outputs": [
    {
     "name": "stdout",
     "output_type": "stream",
     "text": [
      "d : 3\n",
      "e : 2\n",
      "p : 3\n",
      "i : 3\n",
      "k : 1\n",
      "a : 3\n",
      "s : 4\n",
      "t : 6\n",
      "u : 4\n",
      "b : 2\n",
      "m : 2\n",
      "r : 2\n"
     ]
    }
   ],
   "source": [
    "a=\"deepika, stupid but smart, smart but stupid.\"\n",
    "s=a.replace(',',\"\").replace(\".\",\"\").replace(\" \",\"\")\n",
    "d={}\n",
    "for i in s:\n",
    "    if i in d:\n",
    "        d[i] =d[i]+1\n",
    "    else:\n",
    "        d[i] = 1\n",
    "for key,val in d.items():\n",
    "    print(key,\":\",val)\n",
    "    \n"
   ]
  },
  {
   "cell_type": "code",
   "execution_count": null,
   "metadata": {},
   "outputs": [],
   "source": []
  }
 ],
 "metadata": {
  "kernelspec": {
   "display_name": "Python 3",
   "language": "python",
   "name": "python3"
  },
  "language_info": {
   "codemirror_mode": {
    "name": "ipython",
    "version": 3
   },
   "file_extension": ".py",
   "mimetype": "text/x-python",
   "name": "python",
   "nbconvert_exporter": "python",
   "pygments_lexer": "ipython3",
   "version": "3.7.4"
  }
 },
 "nbformat": 4,
 "nbformat_minor": 2
}
