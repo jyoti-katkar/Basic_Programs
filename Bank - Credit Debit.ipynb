{
 "cells": [
  {
   "cell_type": "markdown",
   "metadata": {},
   "source": [
    "### Write a program that computes the net amount of a bank account based on a transaction log from console input. The transaction log format is shown as following"
   ]
  },
  {
   "cell_type": "markdown",
   "metadata": {},
   "source": [
    "D 100 <br>\n",
    "W 200 <br>\n",
    "D means deposite and W means withdrawal"
   ]
  },
  {
   "cell_type": "code",
   "execution_count": 12,
   "metadata": {},
   "outputs": [],
   "source": [
    "import re\n",
    "\n",
    "def transaction_log():\n",
    "    total = 0\n",
    "    while True:\n",
    "        t = input('Enter the transaction log (or q to quit): ')\n",
    "        if t.strip().lower() == 'q':\n",
    "            print('Balance Amount: ', total)\n",
    "            break\n",
    "        if 'd' in t.lower(): \n",
    "            total += sum([int(i) for i in re.findall('\\d+', t)])\n",
    "        elif 'w' in t.lower(): \n",
    "            total -= sum([int(i) for i in re.findall('\\d+', t)])    \n",
    "        else:\n",
    "            print('Invalid input. Please try again!')"
   ]
  },
  {
   "cell_type": "code",
   "execution_count": 13,
   "metadata": {},
   "outputs": [
    {
     "name": "stdout",
     "output_type": "stream",
     "text": [
      "Enter the transaction log (or q to quit): a\n",
      "Invalid input. Please try again!\n",
      "Enter the transaction log (or q to quit): 100\n",
      "Invalid input. Please try again!\n",
      "Enter the transaction log (or q to quit): q\n",
      "Balance Amount:  0\n"
     ]
    }
   ],
   "source": [
    "transaction_log()"
   ]
  },
  {
   "cell_type": "code",
   "execution_count": 14,
   "metadata": {},
   "outputs": [
    {
     "name": "stdout",
     "output_type": "stream",
     "text": [
      "Enter the transaction log (or q to quit): d 100\n",
      "Enter the transaction log (or q to quit): D 200\n",
      "Enter the transaction log (or q to quit): D300\n",
      "Enter the transaction log (or q to quit): W 500\n",
      "Enter the transaction log (or q to quit): d800\n",
      "Enter the transaction log (or q to quit): q\n",
      "Balance Amount:  900\n"
     ]
    }
   ],
   "source": [
    "transaction_log()"
   ]
  },
  {
   "cell_type": "code",
   "execution_count": 15,
   "metadata": {},
   "outputs": [
    {
     "name": "stdout",
     "output_type": "stream",
     "text": [
      "Enter the transaction log (or q to quit): D 100\n",
      "Enter the transaction log (or q to quit): D 1000\n",
      "Enter the transaction log (or q to quit): W 500\n",
      "Enter the transaction log (or q to quit): D 100\n",
      "Enter the transaction log (or q to quit): W 300\n",
      "Enter the transaction log (or q to quit): D 700\n",
      "Enter the transaction log (or q to quit): q\n",
      "Balance Amount:  1100\n"
     ]
    }
   ],
   "source": [
    "transaction_log()"
   ]
  },
  {
   "cell_type": "code",
   "execution_count": null,
   "metadata": {},
   "outputs": [],
   "source": []
  }
 ],
 "metadata": {
  "kernelspec": {
   "display_name": "Python 3",
   "language": "python",
   "name": "python3"
  },
  "language_info": {
   "codemirror_mode": {
    "name": "ipython",
    "version": 3
   },
   "file_extension": ".py",
   "mimetype": "text/x-python",
   "name": "python",
   "nbconvert_exporter": "python",
   "pygments_lexer": "ipython3",
   "version": "3.7.4"
  }
 },
 "nbformat": 4,
 "nbformat_minor": 2
}
