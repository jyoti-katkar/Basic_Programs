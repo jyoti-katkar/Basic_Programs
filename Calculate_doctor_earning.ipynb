{
 "cells": [
  {
   "cell_type": "code",
   "execution_count": 20,
   "metadata": {},
   "outputs": [
    {
     "name": "stdout",
     "output_type": "stream",
     "text": [
      "5\n",
      "6\n",
      "0\n",
      "q\n",
      "Invalid Input\n",
      "\n",
      "Total Income 600 INR\n"
     ]
    }
   ],
   "source": [
    "p_age = []\n",
    "while True:\n",
    "    a = input()\n",
    "    if a == \"q\":\n",
    "        #using 'break' to come out from loop\n",
    "        break\n",
    "    else:\n",
    "        p_age.append(int(a))\n",
    "        \n",
    "            \n",
    "if len(p_age) > 20:\n",
    "    print('Invalid Input')\n",
    "    \n",
    "for i in p_age:\n",
    "    if i == 0 or i < 0 or i > 120:\n",
    "        print('Invalid Input')\n",
    "    \n",
    "doct_earning = 0\n",
    "for i in p_age:\n",
    "    if i < 17:\n",
    "        doct_earning = doct_earning + 200\n",
    "    elif i >= 17 and i <= 40:\n",
    "        doct_earning = doct_earning + 400\n",
    "    elif i > 40:\n",
    "        doct_earning = doct_earning + 300\n",
    "\n",
    "\n",
    "print(f'\\nTotal Income {doct_earning} INR')\n",
    "   \n",
    "\n",
    "    "
   ]
  },
  {
   "cell_type": "code",
   "execution_count": null,
   "metadata": {},
   "outputs": [],
   "source": []
  }
 ],
 "metadata": {
  "kernelspec": {
   "display_name": "Python 3",
   "language": "python",
   "name": "python3"
  },
  "language_info": {
   "codemirror_mode": {
    "name": "ipython",
    "version": 3
   },
   "file_extension": ".py",
   "mimetype": "text/x-python",
   "name": "python",
   "nbconvert_exporter": "python",
   "pygments_lexer": "ipython3",
   "version": "3.7.4"
  }
 },
 "nbformat": 4,
 "nbformat_minor": 2
}
