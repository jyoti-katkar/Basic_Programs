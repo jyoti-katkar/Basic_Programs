{
 "cells": [
  {
   "cell_type": "code",
   "execution_count": 1,
   "metadata": {},
   "outputs": [
    {
     "name": "stdout",
     "output_type": "stream",
     "text": [
      "Hello, World!\n"
     ]
    }
   ],
   "source": [
    "# Print Hello World!\n",
    "\n",
    "print(\"Hello, World!\")"
   ]
  },
  {
   "cell_type": "code",
   "execution_count": 6,
   "metadata": {},
   "outputs": [
    {
     "name": "stdout",
     "output_type": "stream",
     "text": [
      "Adddithion of 50 and 120 is 170.\n"
     ]
    }
   ],
   "source": [
    "#Program to add two numbers\n",
    "\n",
    "var1=50;var2=120\n",
    "add= var1 + var2\n",
    "print(\"Adddithion of {0} and {1} is {2}.\".format(var1,var2,add))"
   ]
  },
  {
   "cell_type": "code",
   "execution_count": 7,
   "metadata": {},
   "outputs": [
    {
     "name": "stdout",
     "output_type": "stream",
     "text": [
      "The squre root of 5.000 is 2.236\n"
     ]
    }
   ],
   "source": [
    "# find the square root\n",
    "\n",
    "num= 5\n",
    "num_sqrt= num ** 0.5\n",
    "print(\"The squre root of %0.3f is %0.3f\"%(num,num_sqrt))"
   ]
  },
  {
   "cell_type": "code",
   "execution_count": 14,
   "metadata": {},
   "outputs": [
    {
     "name": "stdout",
     "output_type": "stream",
     "text": [
      "Area of triangle is 14.70\n"
     ]
    }
   ],
   "source": [
    "# to calculate the area of triangle\n",
    "s1=5; s2=6; s3=7\n",
    "s=(s1+s2+s3)/2\n",
    "area=(s*(s-s1)*(s-s2)*(s-s3))** 0.5\n",
    "print(\"Area of triangle is %0.2f\"%area)"
   ]
  },
  {
   "cell_type": "code",
   "execution_count": 24,
   "metadata": {},
   "outputs": [
    {
     "name": "stdout",
     "output_type": "stream",
     "text": [
      "20 10\n"
     ]
    }
   ],
   "source": [
    "#Swap two variable\n",
    "\n",
    "a=10; b=20 ;c=0\n",
    "c=a\n",
    "a=b\n",
    "b=c\n",
    "print(a,b)"
   ]
  },
  {
   "cell_type": "code",
   "execution_count": 34,
   "metadata": {},
   "outputs": [
    {
     "data": {
      "text/plain": [
       "1"
      ]
     },
     "execution_count": 34,
     "metadata": {},
     "output_type": "execute_result"
    }
   ],
   "source": [
    "# Generate random numbers\n",
    "import random as rd\n",
    "rd.randint(0,9)"
   ]
  },
  {
   "cell_type": "code",
   "execution_count": 35,
   "metadata": {},
   "outputs": [
    {
     "name": "stdout",
     "output_type": "stream",
     "text": [
      "Enter value in kilometers: 3.5\n",
      "3.50 kilometers is equals to 2.17 miles\n"
     ]
    }
   ],
   "source": [
    "# to convert Kilometer to miles\n",
    "\n",
    "kilometers=float(input(\"Enter value in kilometers: \"))\n",
    "\n",
    "conv_fac=0.621371\n",
    "\n",
    "miles=kilometers * conv_fac\n",
    "\n",
    "print('%0.2f kilometers is equals to %0.2f miles'%(kilometers,miles))"
   ]
  },
  {
   "cell_type": "code",
   "execution_count": 3,
   "metadata": {},
   "outputs": [
    {
     "name": "stdout",
     "output_type": "stream",
     "text": [
      "enter radius- 1.5\n",
      "7\n"
     ]
    }
   ],
   "source": [
    "# area of circle\n",
    "\n",
    "import math\n",
    "r=float(input(\"enter radius- \"))\n",
    "area=math.pi*(pow(r,2))\n",
    "print(round(area))"
   ]
  },
  {
   "cell_type": "code",
   "execution_count": 5,
   "metadata": {},
   "outputs": [
    {
     "name": "stdout",
     "output_type": "stream",
     "text": [
      "Enter the day (1-31): 5\n",
      "Enter the month (1-12): 3\n",
      "Enter the Year: 1996\n",
      "5th March,1996\n"
     ]
    }
   ],
   "source": [
    "'''\n",
    "    day=2\n",
    "    month=11\n",
    "    year=2018\n",
    "* output:- should=2nd November 2018\n",
    "\n",
    "'''\n",
    "ending=['st','nd','rd']+ 17*['th']+['st','nd','rd']+7 *['th']+['st']\n",
    "months=['January','February','March','April','May','June','Jully','August','September','Octomber','November','December']\n",
    "\n",
    "day=input(\"Enter the day (1-31): \")\n",
    "month=input(\"Enter the month (1-12): \")\n",
    "year=input(\"Enter the Year: \")\n",
    "\n",
    "month_num=int(month)\n",
    "day_num=int(day)\n",
    "month_name=months[month_num-1] #substract 1 form month and day to get correct index\n",
    "\n",
    "ordinal=day+ending[day_num-1]\n",
    "print(ordinal + ' '+ month_name + ',' +year)\n",
    "\n",
    "#print('{} {} {}'.format(month_name,ordinal,year))"
   ]
  },
  {
   "cell_type": "code",
   "execution_count": 11,
   "metadata": {},
   "outputs": [
    {
     "name": "stdout",
     "output_type": "stream",
     "text": [
      "You want to check:(y/n)y\n",
      "Enter user name: kdjfg\n",
      "Enter pin: 651432\n",
      "Access Denied\n",
      "You want to check:(y/n)y\n",
      "Enter user name: Smith\n",
      "Enter pin: 456732\n",
      "Access Granted\n",
      "You want to check:(y/n)n\n"
     ]
    }
   ],
   "source": [
    "# check a user name and pin in list\n",
    "\n",
    "database =[\\\n",
    "           [\"Jhon\",'452135'],\\\n",
    "           [\"Smith\",'456732'],\\\n",
    "           [\"Allen\",'789503'],\\\n",
    "           [\"Rocky\",'9087907'],\\\n",
    "          ]\n",
    "user_input=input(\"You want to check:(y/n)\")\n",
    "while user_input=='y':\n",
    "    username = input(\"Enter user name: \")\n",
    "    pin = input(\"Enter pin: \")\n",
    "\n",
    "    if[username,pin] in database:\n",
    "        print(\"Access Granted\")\n",
    "    else:\n",
    "        print(\"Access Denied\")\n",
    "    user_input=input(\"You want to check:(y/n)\")"
   ]
  },
  {
   "cell_type": "code",
   "execution_count": 8,
   "metadata": {},
   "outputs": [
    {
     "name": "stdout",
     "output_type": "stream",
     "text": [
      "Enter the number:6\n",
      "Weird\n"
     ]
    }
   ],
   "source": [
    "\"\"\"Task\n",
    "Given an integer, n, perform the following conditional actions:\n",
    "\n",
    "If  is odd, print Weird\n",
    "If  is even and in the inclusive range of 2 to 5, print Not Weird\n",
    "If  is even and in the inclusive range of 6 to 20 , print Weird\n",
    "If  is even and greater than 20, print Not Weird\n",
    "\"\"\"\n",
    "n=int(input(\"Enter the number:\"))\n",
    "if n % 2 != 0:\n",
    "    print(\"Weird\")\n",
    "elif n % 2 == 0:\n",
    "    if n in range(2,6):\n",
    "        print(\"Not Weird\")\n",
    "    elif n in range(6,21):\n",
    "            print(\"Weird\")\n",
    "    elif n>20:\n",
    "        print(\"Not Weird\")\n",
    "   "
   ]
  },
  {
   "cell_type": "code",
   "execution_count": 9,
   "metadata": {},
   "outputs": [
    {
     "ename": "SyntaxError",
     "evalue": "invalid syntax (<ipython-input-9-0f5598270768>, line 2)",
     "output_type": "error",
     "traceback": [
      "\u001b[1;36m  File \u001b[1;32m\"<ipython-input-9-0f5598270768>\"\u001b[1;36m, line \u001b[1;32m2\u001b[0m\n\u001b[1;33m    if n % 2 == 0 and 2<=n\u001b[0m\n\u001b[1;37m                          ^\u001b[0m\n\u001b[1;31mSyntaxError\u001b[0m\u001b[1;31m:\u001b[0m invalid syntax\n"
     ]
    }
   ],
   "source": [
    "n=int(input(\"Enter the number:\"))\n",
    "if n % 2 == 0 and 2<=n"
   ]
  },
  {
   "cell_type": "code",
   "execution_count": 12,
   "metadata": {},
   "outputs": [
    {
     "data": {
      "text/plain": [
       "True"
      ]
     },
     "execution_count": 12,
     "metadata": {},
     "output_type": "execute_result"
    }
   ],
   "source": [
    "n=3\n",
    "2<=n<=5"
   ]
  },
  {
   "cell_type": "code",
   "execution_count": 4,
   "metadata": {},
   "outputs": [
    {
     "name": "stdout",
     "output_type": "stream",
     "text": [
      "Enter the number: 24\n",
      "Not Weird\n"
     ]
    }
   ],
   "source": [
    "n = int(input(\"Enter the number: \"))\n",
    "\n",
    "if n % 2 == 0:\n",
    "    if n % 2 == 0 and 2<=n<=5:\n",
    "        print(\"Not Weird\")\n",
    "    elif n % 2 == 0 and 6<=n<=20:\n",
    "         print(\"Weird\")\n",
    "    elif n > 20:\n",
    "        print(\"Not Weird\")\n",
    "else:\n",
    "    print(\"Weird\")\n"
   ]
  },
  {
   "cell_type": "code",
   "execution_count": 5,
   "metadata": {},
   "outputs": [
    {
     "ename": "SyntaxError",
     "evalue": "invalid syntax (<ipython-input-5-e3a91265b248>, line 2)",
     "output_type": "error",
     "traceback": [
      "\u001b[1;36m  File \u001b[1;32m\"<ipython-input-5-e3a91265b248>\"\u001b[1;36m, line \u001b[1;32m2\u001b[0m\n\u001b[1;33m    Given an integer, n, perform the following conditional actions:\u001b[0m\n\u001b[1;37m           ^\u001b[0m\n\u001b[1;31mSyntaxError\u001b[0m\u001b[1;31m:\u001b[0m invalid syntax\n"
     ]
    }
   ],
   "source": [
    "Task\n",
    "Given an integer, n, perform the following conditional actions:\n",
    "\n",
    "If n  is odd, print Weird\n",
    "If n is even and in the inclusive range of 2 to 5 , print Not Weird\n",
    "If n is even and in the inclusive range of 6 to 20 , print Weird\n",
    "If n is even and greater than 20, print Not Weird\n",
    "Input Format\n",
    "\n",
    "A single line containing a positive integer,n.\n",
    "\n",
    "Constraints\n",
    "1<= n <=100\n",
    "\n",
    "Output Format\n",
    "\n",
    "Print Weird if the number is weird. Otherwise, print Not Weird.\n",
    "\n",
    "Sample Input 0\n",
    "\n",
    "3\n",
    "\n",
    "\n",
    "\"\"\"if n % 2 == 0 and 2 <= n <= 5:\n",
    "    print(\"Not Weird\")\n",
    "elif n % 2 == 0 and 6 <= n <= 20:\n",
    "    print(\"Weird\")\n",
    "elif if \n",
    "else:n % 2 != 0 :\n",
    "    print(\"Weird\")\n",
    "    \"\"\""
   ]
  },
  {
   "cell_type": "code",
   "execution_count": 23,
   "metadata": {},
   "outputs": [
    {
     "name": "stdout",
     "output_type": "stream",
     "text": [
      "Enter the number: 20\n",
      "weird\n"
     ]
    }
   ],
   "source": [
    "num = int(input(\"Enter the number: \"))\n",
    "\n",
    "if num % 2 == 0:\n",
    "    if 2<=num<=5:\n",
    "        print(\"Not Weird\")\n",
    "    elif 6<=num<=20:\n",
    "        print(\"weird\")\n",
    "    elif num > 20:\n",
    "        print(\"Not Weird\")\n",
    "else:\n",
    "    print(\"weird\")\n"
   ]
  },
  {
   "cell_type": "code",
   "execution_count": 20,
   "metadata": {},
   "outputs": [
    {
     "data": {
      "text/plain": [
       "True"
      ]
     },
     "execution_count": 20,
     "metadata": {},
     "output_type": "execute_result"
    }
   ],
   "source": [
    "2<=3<=5 or 6<=3<=20 or 3 >20"
   ]
  },
  {
   "cell_type": "code",
   "execution_count": 24,
   "metadata": {},
   "outputs": [
    {
     "name": "stdout",
     "output_type": "stream",
     "text": [
      "Not Weird\n"
     ]
    }
   ],
   "source": [
    "if n % 2 == 0:\n",
    "    if n in range(2,6):\n",
    "        print(\"Not Weird\")\n",
    "    elif n in range(6,21):\n",
    "        print(\"weird\")\n",
    "    elif n > 20:\n",
    "        print(\"Not Weird\")\n",
    "else:\n",
    "    print(\"weird\")\n"
   ]
  },
  {
   "cell_type": "code",
   "execution_count": 31,
   "metadata": {},
   "outputs": [
    {
     "name": "stdout",
     "output_type": "stream",
     "text": [
      "1994\n",
      "False\n"
     ]
    }
   ],
   "source": [
    "# Leap year :\n",
    "def is_leap(year):\n",
    "    leap = False\n",
    "    \n",
    "    # Write your logic here\n",
    "    if year % 4 == 0:\n",
    "        if year % 100 == 0:\n",
    "            if year % 400 == 0 :\n",
    "                return True\n",
    "            else:\n",
    "                return leap\n",
    "        else:\n",
    "            return True\n",
    "\n",
    "    else:\n",
    "        return leap\n",
    "\n",
    "\n",
    "year = int(input())\n",
    "print(is_leap(year))"
   ]
  },
  {
   "cell_type": "code",
   "execution_count": 32,
   "metadata": {},
   "outputs": [
    {
     "name": "stdout",
     "output_type": "stream",
     "text": [
      "5\n",
      "12345"
     ]
    }
   ],
   "source": [
    "\n",
    "n = int(input())\n",
    "\n",
    "for i in range(1,n+1):\n",
    "    print(i, end=\"\")\n"
   ]
  },
  {
   "cell_type": "code",
   "execution_count": null,
   "metadata": {},
   "outputs": [
    {
     "name": "stdout",
     "output_type": "stream",
     "text": [
      "3\n",
      "insert 0 9\n",
      "['insert', '0', '9']\n"
     ]
    }
   ],
   "source": [
    "n= int(input())\n",
    "l=[]\n",
    "for i in range (n):\n",
    "    cmd=input()\n",
    "    k=cmd.split(\" \")\n",
    "    print(k)\n",
    "    cmd=k\n",
    "\n",
    "    if cmd[0]==\"insert\":\n",
    "        l.insert(int(cmd[1]),int(cmd[2]))\n",
    "    elif cmd[0]==\"print\":\n",
    "        print(l)\n",
    "    elif cmd[0]==\"remove\":\n",
    "        l.remove(int(cmd[1]))\n",
    "    elif cmd[0]==\"append\":\n",
    "        l.append(int(cmd[1]))\n",
    "    elif cmd[0]==\"sort\":\n",
    "        l.sort()\n",
    "    elif cmd[0]==\"pop\":\n",
    "        l.pop()\n",
    "    elif cmd[0]==\"reverse\":\n",
    "        l.reverse()\n"
   ]
  },
  {
   "cell_type": "code",
   "execution_count": 6,
   "metadata": {},
   "outputs": [
    {
     "name": "stdout",
     "output_type": "stream",
     "text": [
      "2\n",
      "enter command: insert\n",
      "enter value and position0 5\n",
      "[5]\n",
      "enter command: \n",
      "enter value and position\n"
     ]
    }
   ],
   "source": [
    "n = int(input())\n",
    "my_list=[]\n",
    "for i in range(n):\n",
    "    cmd= input(\"enter command: \")\n",
    "    v=(input(\"enter value and position\").split(\" \"))\n",
    "\n",
    "    if cmd == \"insert\":\n",
    "        my_list.insert(int(v[0]),int(v[1]))\n",
    "        print(my_list)\n",
    "    "
   ]
  },
  {
   "cell_type": "code",
   "execution_count": null,
   "metadata": {},
   "outputs": [],
   "source": [
    "n = int(input())\n",
    "arr=[]\n",
    "for i in range(n):\n",
    "    a=int(input())\n",
    "    arr.append(a)\n",
    "print(arr)\n"
   ]
  },
  {
   "cell_type": "code",
   "execution_count": 1,
   "metadata": {},
   "outputs": [
    {
     "name": "stdout",
     "output_type": "stream",
     "text": [
      "5\n",
      "2\n",
      "3\n",
      "4\n",
      "6\n",
      "6\n",
      "['2', '3', '4', '6', '6']\n",
      "None\n"
     ]
    }
   ],
   "source": [
    "n = int(input())\n",
    "arr=[]\n",
    "for i in range(n):\n",
    "    arr.append(input())\n",
    "\n",
    "print(arr)\n",
    "\n"
   ]
  },
  {
   "cell_type": "code",
   "execution_count": 6,
   "metadata": {},
   "outputs": [
    {
     "data": {
      "text/plain": [
       "False"
      ]
     },
     "execution_count": 6,
     "metadata": {},
     "output_type": "execute_result"
    }
   ],
   "source": [
    "a=\"2.3\"\n",
    "type(a)\n",
    "a.isnumeric()\n",
    "isinstance(a,float)"
   ]
  },
  {
   "cell_type": "markdown",
   "metadata": {},
   "source": [
    "# Second largest element in the arr:"
   ]
  },
  {
   "cell_type": "code",
   "execution_count": 23,
   "metadata": {},
   "outputs": [
    {
     "name": "stdout",
     "output_type": "stream",
     "text": [
      "5\n",
      "2 3 6 6 5\n",
      "[2, 3, 6, 6, 5]\n",
      "5\n"
     ]
    }
   ],
   "source": [
    "i = int(input())\n",
    "lis = list(map(int,input().strip().split()))[:i]\n",
    "print(lis)\n",
    "z = max(lis)\n",
    "while max(lis) == z:\n",
    "    lis.remove(max(lis))\n",
    "\n",
    "print(max(lis))\n",
    "#Sort is faster than sorted because it doesn't have to create copy..\n",
    "# set() return unordered collection"
   ]
  },
  {
   "cell_type": "code",
   "execution_count": 16,
   "metadata": {},
   "outputs": [
    {
     "name": "stdout",
     "output_type": "stream",
     "text": [
      "3\n",
      "10 0 -10\n",
      "0\n"
     ]
    }
   ],
   "source": [
    "n = int(input())\n",
    "arr = list(map(int, input().split()))\n",
    "print(max([x for x in arr if x!=max(arr)]))"
   ]
  },
  {
   "cell_type": "code",
   "execution_count": 24,
   "metadata": {
    "collapsed": true
   },
   "outputs": [
    {
     "data": {
      "text/plain": [
       "'# Given the names and grades for each student in a class of N students, store them in a nested list and print the name(s) of \\nany student(s) having the second lowest grade.\\n\\nNote: If there are multiple students with the second lowest grade, order their names alphabetically and \\n    print each name on a new line.\\n\\nExample\\nrecords = [[\"chi\",20.0],[\"beta\",50.0],[\"alpha\",50.0]]\\nThe ordered list of scores is ,[20.0,50.0] so the second lowest score is 50.0 . There are two students with that score: . \\n    [\"beta\",\"alpha\"].Ordered alphabetically, the names are printed as:\\n        alpha\\n        beta'"
      ]
     },
     "execution_count": 24,
     "metadata": {},
     "output_type": "execute_result"
    }
   ],
   "source": [
    "\"\"\"# Given the names and grades for each student in a class of N students, store them in a nested list and print the name(s) of \n",
    "any student(s) having the second lowest grade.\n",
    "\n",
    "Note: If there are multiple students with the second lowest grade, order their names alphabetically and \n",
    "    print each name on a new line.\n",
    "\n",
    "Example\n",
    "records = [[\"chi\",20.0],[\"beta\",50.0],[\"alpha\",50.0]]\n",
    "The ordered list of scores is ,[20.0,50.0] so the second lowest score is 50.0 . There are two students with that score: . \n",
    "    [\"beta\",\"alpha\"].Ordered alphabetically, the names are printed as:\n",
    "        alpha\n",
    "        beta\"\"\""
   ]
  },
  {
   "cell_type": "code",
   "execution_count": null,
   "metadata": {},
   "outputs": [],
   "source": [
    "lis=[]\n",
    "for n in range(int(input())):\n",
    "    name=input()\n",
    "    score=float(input())\n",
    "    lis.append([name,score])\n",
    "    \n",
    "second_lower_score=sorted(list(set([score for name, score in lis])))[1]\n",
    "for a ,b in sorted(lis):\n",
    "    if b == second_lower_score:\n",
    "        print(a)\n"
   ]
  },
  {
   "cell_type": "code",
   "execution_count": null,
   "metadata": {},
   "outputs": [],
   "source": [
    "n= int(input())\n",
    "stud_marks=[[input(),float(input())] for _ in range(n)]\n",
    "second_lowest = sorted(list(set([score for name, score in stud_marks])))[1]\n",
    "print('\\n'.join([a for a,b in sorted(marksheet) if b == second_highest]))"
   ]
  },
  {
   "cell_type": "code",
   "execution_count": null,
   "metadata": {},
   "outputs": [],
   "source": [
    "if __name__ == '__main__':\n",
    "    a= []\n",
    "    for _ in range(int(input())):\n",
    "        name = input()\n",
    "        score = float(input())\n",
    "        a.append([score, name])\n",
    "\n",
    "    a.sort()\n",
    "    b = [i for i in a if i[0] != a[0][0]]\n",
    "    c = [j for j in b if j[0] == b[0][0]]\n",
    "    \n",
    "    c.sort(key=lambda x: x[1])\n",
    "    for i in range(len(c)):\n",
    "        print(c[i][1])"
   ]
  },
  {
   "cell_type": "code",
   "execution_count": 7,
   "metadata": {},
   "outputs": [
    {
     "name": "stdout",
     "output_type": "stream",
     "text": [
      "hgkjhahgj\n",
      "6 p\n",
      "['h', 'g', 'k', 'j', 'h', 'a', 'p', 'g', 'j']\n",
      "hgkjhapgj\n"
     ]
    }
   ],
   "source": [
    "# read a string and change the character with given character at given index and print modified string\n",
    "\n",
    "def mutable_string(string,position,character):\n",
    "    s_list=list(string)\n",
    "    s_list[position] = character\n",
    "    string=\"\".join(s_list)\n",
    "    return string\n",
    "\n",
    "\n",
    "s = input()\n",
    "i,c = input().split()\n",
    "new_s = mutable_string(s,int(i),c)\n",
    "print(new_s)"
   ]
  },
  {
   "cell_type": "code",
   "execution_count": 1,
   "metadata": {},
   "outputs": [
    {
     "name": "stdout",
     "output_type": "stream",
     "text": [
      "20 30 \n"
     ]
    },
    {
     "data": {
      "text/plain": [
       "['20', '30', '']"
      ]
     },
     "execution_count": 1,
     "metadata": {},
     "output_type": "execute_result"
    }
   ],
   "source": [
    "val=input()\n",
    "values_cal=val.split(\" \")\n",
    "values_cal   "
   ]
  },
  {
   "cell_type": "code",
   "execution_count": 5,
   "metadata": {},
   "outputs": [
    {
     "name": "stdout",
     "output_type": "stream",
     "text": [
      "10\n",
      "20\n",
      "[15, 15]\n",
      "[10, 20]\n",
      "{1: 20, 2: 30}\n"
     ]
    }
   ],
   "source": [
    "def add(*args):\n",
    "    for i in args:\n",
    "        print(i)\n",
    "    \n",
    "add(10,20,[15,15])\n",
    "add([10,20],{1:20, 2:30})"
   ]
  },
  {
   "cell_type": "code",
   "execution_count": 10,
   "metadata": {},
   "outputs": [
    {
     "name": "stdout",
     "output_type": "stream",
     "text": [
      "6\n",
      "-15\n",
      "0\n",
      "0\n"
     ]
    }
   ],
   "source": [
    "class Calculator:\n",
    "    \n",
    "    def addition(self,*args):\n",
    "        result = 0\n",
    "        for val in args:\n",
    "            result = result + val\n",
    "        return result\n",
    "\n",
    "    def subtraction(self, *args):\n",
    "        result = 0\n",
    "        for val in args:\n",
    "            result = result - val\n",
    "        return result\n",
    "\n",
    "    def multiplication(self, *args):\n",
    "        result = 0\n",
    "        for val in args:\n",
    "            result = result * val\n",
    "        return result\n",
    "\n",
    "    def division(self, *args):\n",
    "        result = 0\n",
    "        for val in args:\n",
    "            result = result % val\n",
    "        return result\n",
    "\n",
    "if __name__ == '__main__':\n",
    "\n",
    "    cal = Calculator()\n",
    "    print(cal.addition(1,2,3))\n",
    "    print(cal.subtraction(10,5))\n",
    "    print(cal.multiplication(5,5))\n",
    "    print(cal.division(20,5))\n",
    "\n",
    "\n",
    "\n",
    "\n"
   ]
  },
  {
   "cell_type": "markdown",
   "metadata": {},
   "source": [
    "# *args and **kwargs\n",
    "\"\"\"\n",
    "Introduction to *args and **kwargs in Python:\n",
    "In Python, we can pass a variable number of arguments to a function using special symbols. \n",
    "There are two special symbols:\n",
    "\n",
    "*args (Non Keyword Arguments)\n",
    "**kwargs (Keyword Arguments)\n",
    "We use *args and **kwargs as an argument when we are unsure about the number of arguments to pass in the functions.\n",
    "we should use an asterisk * before the parameter name to pass variable length arguments.T\n",
    "\"\"\""
   ]
  },
  {
   "cell_type": "code",
   "execution_count": 26,
   "metadata": {},
   "outputs": [
    {
     "name": "stdout",
     "output_type": "stream",
     "text": [
      "['abc', 10, 20]\n",
      "<class 'list'>\n"
     ]
    }
   ],
   "source": [
    "\"\"\"\n",
    "Python has *args which allow us to pass the variable number of non keyword arguments to function.\n",
    "\"\"\"\n",
    "\n",
    "def func(*args):\n",
    "    for item in args:\n",
    "        print(item)\n",
    "        print(type(item))\n",
    "   \n",
    "\n",
    "func([\"abc\",10,20])"
   ]
  },
  {
   "cell_type": "code",
   "execution_count": 18,
   "metadata": {},
   "outputs": [
    {
     "name": "stdout",
     "output_type": "stream",
     "text": [
      "Sum: 8\n",
      "Sum: 22\n",
      "Sum: 17\n"
     ]
    }
   ],
   "source": [
    "def adder(*num):\n",
    "    sum = 0\n",
    "    \n",
    "    for n in num:\n",
    "        sum = sum + n\n",
    "\n",
    "    print(\"Sum:\",sum)\n",
    "\n",
    "adder(3,5)\n",
    "adder(4,5,6,7)\n",
    "adder(1,2,3,5,6)"
   ]
  },
  {
   "cell_type": "code",
   "execution_count": 27,
   "metadata": {},
   "outputs": [
    {
     "name": "stdout",
     "output_type": "stream",
     "text": [
      "\n",
      "Data type of argument: <class 'dict'>\n",
      "Firstname is Sita\n",
      "Lastname is Sharma\n",
      "Age is 22\n",
      "Phone is 1234567890\n",
      "\n",
      "Data type of argument: <class 'dict'>\n",
      "Firstname is John\n",
      "Lastname is Wood\n",
      "Email is johnwood@nomail.com\n",
      "Country is Wakanda\n",
      "Age is 25\n",
      "Phone is 9876543210\n"
     ]
    }
   ],
   "source": [
    "\"\"\"\n",
    "**kwargs, it allows us to pass the variable length of keyword arguments to the function.\n",
    "\n",
    "The arguments are passed as a dictionary and these arguments make a dictionary inside function with name same\n",
    "as the parameter excluding double asterisk **.\n",
    "\"\"\"\n",
    "def intro(**data):\n",
    "    print(\"\\nData type of argument:\",type(data))\n",
    "\n",
    "    for key, value in data.items():\n",
    "        print(\"{} is {}\".format(key,value))\n",
    "\n",
    "        \n",
    "intro(Firstname=\"Sita\", Lastname=\"Sharma\", Age=22, Phone=1234567890)\n",
    "intro(Firstname=\"John\", Lastname=\"Wood\", Email=\"johnwood@nomail.com\", Country=\"Wakanda\", Age=25, Phone=9876543210)\n"
   ]
  },
  {
   "cell_type": "code",
   "execution_count": null,
   "metadata": {},
   "outputs": [],
   "source": []
  },
  {
   "cell_type": "code",
   "execution_count": 2,
   "metadata": {},
   "outputs": [
    {
     "name": "stdout",
     "output_type": "stream",
     "text": [
      "10 20\n",
      "30\n"
     ]
    }
   ],
   "source": [
    "def addition(*integers):\n",
    "        result = 0\n",
    "        for x in integers:\n",
    "            result = result + x\n",
    "        return result\n",
    "    \n",
    "\n",
    "num = map(int,input().split())\n",
    "print(addition(*num))"
   ]
  },
  {
   "cell_type": "code",
   "execution_count": null,
   "metadata": {},
   "outputs": [],
   "source": [
    "# merging_lists.py\n",
    "\n",
    "my_first_list = [1, 2, 3]\n",
    "my_second_list = [4, 5, 6]\n",
    "my_merged_list = [*my_first_list, *my_second_list]\n",
    "\n",
    "print(my_merged_list)"
   ]
  },
  {
   "cell_type": "raw",
   "metadata": {},
   "source": [
    "Python List Methods:-\n",
    "\n",
    "append() - Add an element to the end of the list\n",
    "extend() - Add all elements of a list to the another list\n",
    "insert() - Insert an item at the defined index\n",
    "remove() - Removes an item from the list\n",
    "pop() - Removes and returns an element at the given index\n",
    "clear() - Removes all items from the list\n",
    "index() - Returns the index of the first matched item\n",
    "count() - Returns the count of the number of items passed as an argument\n",
    "sort() - Sort items in a list in ascending order\n",
    "reverse() - Reverse the order of items in the list\n",
    "copy() - Returns a shallow copy of the list"
   ]
  },
  {
   "cell_type": "code",
   "execution_count": null,
   "metadata": {},
   "outputs": [],
   "source": [
    "my_list=[]\n",
    "\n",
    "n= int(input())\n",
    "for i in range(n):\n",
    "    cmd=(input().split(\" \"))\n",
    "    \n",
    "    if cmd[0] == \"insert\":\n",
    "        my_list.insert(int(cmd[1]),int(cmd[2]))\n",
    "    elif cmd[0] == \"print\":\n",
    "        print(my_list)\n",
    "    elif cmd[0] == \"remove\":\n",
    "        my_list.remove(int(cmd[1]))\n",
    "    elif cmd[0] == \"append\":\n",
    "        my_list.append(int(cmd[1]))\n",
    "    elif cmd[0] == \"sort\":\n",
    "        my_list.sort()\n",
    "    elif cmd[0] == \"pop\":\n",
    "        my_list.pop(int(cmd[1]))\n",
    "    elif cmd[0] == \"reverse\":\n",
    "        my_list.reverse()\n",
    "                       \n",
    "                                        "
   ]
  },
  {
   "cell_type": "markdown",
   "metadata": {},
   "source": [
    "Given an integer,n , and n space-separated integers as input, create a tuple,t, of those n integers. \n",
    "Then compute and print the result of hash(t) .\n",
    "\n",
    "\n",
    "Note: hash() is one of the functions in the __builtins__ module, so it need not be imported.\n",
    "\n",
    "Input Format\n",
    "\n",
    "The first line contains an integer, n, denoting the number of elements in the tuple.\n",
    "The second line contains n space-separated integers describing the elements in tuple t.\n",
    "\n",
    "Output Format\n",
    "\n",
    "Print the result of hash(t).\n",
    "\n",
    "Sample Input 0\n",
    "\n",
    "2\n",
    "1 2\n",
    "Sample Output 0\n",
    "\n",
    "3713081631934410656"
   ]
  },
  {
   "cell_type": "code",
   "execution_count": 3,
   "metadata": {},
   "outputs": [
    {
     "name": "stdout",
     "output_type": "stream",
     "text": [
      "2\n",
      "1 2\n",
      "3713081631934410656\n"
     ]
    }
   ],
   "source": [
    "n = int(input())\n",
    "integer_list = map(int, input().split())\n",
    "t=tuple(integer_list)\n",
    "print(hash(t))"
   ]
  },
  {
   "cell_type": "raw",
   "metadata": {},
   "source": [
    " * hash values:-\n",
    "    The hash() method returns the hash value of an object if it has one. \n",
    "    Hash values are just integers that are used to compare dictionary keys during a dictionary lookup quickly. \n",
    "    Internally, hash() method calls __hash__() method of an object which is set by default for any object.\n",
    "    \n",
    "    Hashing involves applying a hashing algorithm to a data item, known as the hashing key, to create a hash value. \n",
    "    Hashing algorithms take a large range of values (such as all possible strings or all possible files) and map \n",
    "    them onto a smaller set of values (such as a 128 bit number).\n",
    "\n",
    "* hash function:-\n",
    "    A hash function is a function which when given a key, generates an address in the table. \n",
    "    The example of a hash function is a book call number. \n",
    "    Each book in the library has a unique call number. ... The later is always possible only if you know (or approximate) \n",
    "    the number of objects to be proccessed.\n",
    "    \n",
    "*hash table:\n",
    "    Hash tables are a type of data structure in which the address or the index value of the data element is generated \n",
    "    from a hash function. \n",
    "    That makes accessing the data faster as the index value behaves as a key for the data value. ... \n",
    "    In Python, the Dictionary data types represent the implementation of hash tables.\n",
    "    "
   ]
  },
  {
   "cell_type": "code",
   "execution_count": null,
   "metadata": {},
   "outputs": [],
   "source": []
  },
  {
   "cell_type": "code",
   "execution_count": null,
   "metadata": {},
   "outputs": [],
   "source": []
  },
  {
   "cell_type": "code",
   "execution_count": 3,
   "metadata": {},
   "outputs": [
    {
     "name": "stdout",
     "output_type": "stream",
     "text": [
      "2 3 6 6 5\n",
      "5\n"
     ]
    }
   ],
   "source": [
    "#Find the Runner-Up Score! _ HackerRank\n",
    "\n",
    "arr=map(int,input().split())\n",
    "a=list(set(arr))[-2]\n",
    "print(a)\n"
   ]
  },
  {
   "cell_type": "code",
   "execution_count": 7,
   "metadata": {},
   "outputs": [
    {
     "name": "stdout",
     "output_type": "stream",
     "text": [
      "4\n",
      "57 57 -57 57\n",
      "-57\n"
     ]
    }
   ],
   "source": [
    "n = int(input())\n",
    "arr = list(map(int, input().split()))\n",
    "print(max([x for x in arr if x!=max(arr)]))"
   ]
  },
  {
   "cell_type": "code",
   "execution_count": 9,
   "metadata": {},
   "outputs": [
    {
     "name": "stdout",
     "output_type": "stream",
     "text": [
      "3\n",
      "2\n",
      "5 \n",
      "1 \n",
      "6\n"
     ]
    }
   ],
   "source": [
    "# Arithmetic Operators _ HackerRank\n",
    "a = int(input())\n",
    "b = int(input())\n",
    "print(\"{0} \\n{1} \\n{2}\".format(a+b, a-b, a*b))"
   ]
  },
  {
   "cell_type": "code",
   "execution_count": 1,
   "metadata": {},
   "outputs": [
    {
     "ename": "NameError",
     "evalue": "name 'ch' is not defined",
     "output_type": "error",
     "traceback": [
      "\u001b[1;31m---------------------------------------------------------------------------\u001b[0m",
      "\u001b[1;31mNameError\u001b[0m                                 Traceback (most recent call last)",
      "\u001b[1;32m<ipython-input-1-5bc15e876a01>\u001b[0m in \u001b[0;36m<module>\u001b[1;34m\u001b[0m\n\u001b[1;32m----> 1\u001b[1;33m \u001b[1;32mwhile\u001b[0m \u001b[0mch\u001b[0m \u001b[1;33m!=\u001b[0m \u001b[1;34m'q'\u001b[0m\u001b[1;33m:\u001b[0m\u001b[1;33m\u001b[0m\u001b[1;33m\u001b[0m\u001b[0m\n\u001b[0m\u001b[0;32m      2\u001b[0m \u001b[1;33m\u001b[0m\u001b[0m\n\u001b[0;32m      3\u001b[0m     \u001b[0mch\u001b[0m \u001b[1;33m=\u001b[0m \u001b[1;33m(\u001b[0m\u001b[0minput\u001b[0m\u001b[1;33m(\u001b[0m\u001b[1;33m)\u001b[0m\u001b[1;33m.\u001b[0m\u001b[0msplit\u001b[0m\u001b[1;33m(\u001b[0m\u001b[1;34m\" \"\u001b[0m\u001b[1;33m)\u001b[0m\u001b[1;33m)\u001b[0m\u001b[1;33m\u001b[0m\u001b[1;33m\u001b[0m\u001b[0m\n\u001b[0;32m      4\u001b[0m \u001b[1;33m\u001b[0m\u001b[0m\n\u001b[0;32m      5\u001b[0m     \u001b[1;32mif\u001b[0m \u001b[0mlen\u001b[0m\u001b[1;33m(\u001b[0m\u001b[0mn\u001b[0m\u001b[1;33m)\u001b[0m \u001b[1;33m>\u001b[0m \u001b[1;36m20\u001b[0m\u001b[1;33m:\u001b[0m\u001b[1;33m\u001b[0m\u001b[1;33m\u001b[0m\u001b[0m\n",
      "\u001b[1;31mNameError\u001b[0m: name 'ch' is not defined"
     ]
    }
   ],
   "source": [
    "\n",
    "while ch != 'q':\n",
    "    \n",
    "    ch = (input().split(\" \"))\n",
    "    \n",
    "    if len(n) > 20:\n",
    "        print(\"INVALID INPUT\")\n",
    "        \n",
    "\"\"\"        \n",
    "        \n",
    "l = len(n)\n",
    "if l > 20:\n",
    "    print(\"INVALID INPUT\")\"\"\"\n",
    "   \n",
    "       \n",
    "\n",
    "        "
   ]
  },
  {
   "cell_type": "code",
   "execution_count": null,
   "metadata": {},
   "outputs": [
    {
     "name": "stdout",
     "output_type": "stream",
     "text": [
      "1 2 3 4 5 6 q\n"
     ]
    }
   ],
   "source": [
    "while(1):\n",
    "    \n",
    "    n = (input().split(\" \"))\n",
    "    if n =='q':\n",
    "        break\n",
    "    elif len(n) > 20:\n",
    "        print('INVALID INPUT')\n"
   ]
  },
  {
   "cell_type": "code",
   "execution_count": null,
   "metadata": {},
   "outputs": [],
   "source": [
    "p_age = []\n",
    "while True:\n",
    "    a = input()\n",
    "    if a == \"q\":\n",
    "        #using 'break' to come out from loop\n",
    "        break\n",
    "    else:\n",
    "        p_age.append(int(a))\n",
    "        \n",
    "            \n",
    "if len(p_age) > 20:\n",
    "    print('Invalid Input')\n",
    "    \n",
    "for i in range(len(p_age)):\n",
    "    print(p_age[i],end=' ')\n",
    "\n",
    "doct_earning = 0\n",
    "for i in p_age:\n",
    "    if i < 17:\n",
    "        doct_earning = doct_earning + 200\n",
    "    elif i >= 17 and i <= 40:\n",
    "        doct_earning = doct_earning + 400\n",
    "    if i > 40:\n",
    "        doct_earning = doct_earning + 300\n",
    "print(f'Total Income {doct_earning} INR')\n",
    "\n",
    "\n",
    "    "
   ]
  },
  {
   "cell_type": "code",
   "execution_count": null,
   "metadata": {},
   "outputs": [],
   "source": [
    "while True:\n",
    "\tname = input(\"Enter your name >>>\")\n",
    "\tmaths_marks = int(input(\"Maths marks >>>\"))\n",
    "\tscience_marks = int(input(\"Science marks >>>\"))\n",
    "\tenglish_marks = int(input(\"English marks >>>\"))\n",
    "\tcomupter_marks = int(input(\"Computer marks >>>\"))\n",
    "\ttotal = maths_marks+science_marks+english_marks+comupter_marks\n",
    "\tpercentage = (total/400)*100\n",
    "\tprint(name,\", your total marks is\",total,\"and your percentage is\",percentage)\n",
    "\n",
    "\ta = input(\"Want to enter more y/n >>>\")\n",
    "\tif a == \"n\":\n",
    "\t\t#using 'break' to come out from loop\n",
    "\t\tbreak"
   ]
  }
 ],
 "metadata": {
  "kernelspec": {
   "display_name": "Python 3",
   "language": "python",
   "name": "python3"
  },
  "language_info": {
   "codemirror_mode": {
    "name": "ipython",
    "version": 3
   },
   "file_extension": ".py",
   "mimetype": "text/x-python",
   "name": "python",
   "nbconvert_exporter": "python",
   "pygments_lexer": "ipython3",
   "version": "3.7.4"
  }
 },
 "nbformat": 4,
 "nbformat_minor": 2
}
